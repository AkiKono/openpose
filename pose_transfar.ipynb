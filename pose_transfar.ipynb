# load yml file from dir ./seat/download/openpose/test2

import yaml

with open(r'C:\Users\Morio Murase\seat\download\openpose\test2\WIN_20191205_08_03_53_Pro_pose.yml') as file:
    # The FullLoader parameter handles the conversion from YAML
    # scalar values to Python the dictionary format
    fruits_list = yaml.load(file, Loader=yaml.FullLoader)

    print(fruits_list)
