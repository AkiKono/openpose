# obtain 2D keypoints processed by OpenPose and convert it to ideal seating keypoints
import yaml

with open(r'C:\Users\Morio Murase\seat\download\openpose\test2\WIN_20191205_08_03_53_Pro_pose.yml') as file:
    # The FullLoader parameter handles the conversion from YAML
    # scalar values to Python the dictionary format
    fruits_list = yaml.load(file, Loader=yaml.FullLoader)

    print(fruits_list)
